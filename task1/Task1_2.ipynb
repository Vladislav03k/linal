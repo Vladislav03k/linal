{
  "nbformat": 4,
  "nbformat_minor": 0,
  "metadata": {
    "colab": {
      "name": "Task1_2.ipynb",
      "provenance": []
    },
    "kernelspec": {
      "name": "python3",
      "display_name": "Python 3"
    },
    "language_info": {
      "name": "python"
    }
  },
  "cells": [
    {
      "cell_type": "markdown",
      "source": [
        "1. Найти скалярное произведение векторов  x,y∈R :\n",
        "\n",
        "\n",
        "а)  x=(0,−3,6), y=(−4,7,9); \n",
        "\n",
        "\n",
        "б)  x=(7,−4,0,1), y=(−3,1,11,2)."
      ],
      "metadata": {
        "id": "2NSw_w1HyQ27"
      }
    },
    {
      "cell_type": "code",
      "execution_count": 1,
      "metadata": {
        "id": "dNAdUaeQR-GV"
      },
      "outputs": [],
      "source": [
        "import numpy as np"
      ]
    },
    {
      "cell_type": "code",
      "source": [
        "a = np.array([0, -3, 6])\n",
        "b = np.array([-4, 7, 9])\n",
        "c = np.dot(a, b)\n",
        "c"
      ],
      "metadata": {
        "colab": {
          "base_uri": "https://localhost:8080/"
        },
        "id": "FJP5l_mKw1Q3",
        "outputId": "75e24993-7592-4861-d484-2915a4c67613"
      },
      "execution_count": 2,
      "outputs": [
        {
          "output_type": "execute_result",
          "data": {
            "text/plain": [
              "33"
            ]
          },
          "metadata": {},
          "execution_count": 2
        }
      ]
    },
    {
      "cell_type": "code",
      "source": [
        "a = np.array([7, -4, 0, 1])\n",
        "b = np.array([-3, 1, 11, 2])\n",
        "c = np.dot(a, b)\n",
        "c"
      ],
      "metadata": {
        "colab": {
          "base_uri": "https://localhost:8080/"
        },
        "id": "C-NWMjVDxP6h",
        "outputId": "cdd8dd60-bbc8-4943-f07a-a6a284c924c7"
      },
      "execution_count": 3,
      "outputs": [
        {
          "output_type": "execute_result",
          "data": {
            "text/plain": [
              "-23"
            ]
          },
          "metadata": {},
          "execution_count": 3
        }
      ]
    },
    {
      "cell_type": "markdown",
      "source": [
        "2. Найти нормы векторов  (4,2,4)  и  (12,3,4)  и угол между ними."
      ],
      "metadata": {
        "id": "vcjY_w4fyYWG"
      }
    },
    {
      "cell_type": "code",
      "source": [
        "from numpy.linalg import norm"
      ],
      "metadata": {
        "id": "FRKi_Idoyq_w"
      },
      "execution_count": 4,
      "outputs": []
    },
    {
      "cell_type": "code",
      "source": [
        "a = np.array([4, 2, 4])\n",
        "b = np.array([12, 3, 4])\n",
        "print(f'l1 норма вектора a/ b:\\n{norm(a, ord = 1)}\\n{norm(b, ord = 1)}')\n"
      ],
      "metadata": {
        "colab": {
          "base_uri": "https://localhost:8080/"
        },
        "id": "2jRmfL_vyLtR",
        "outputId": "973d2811-f7e9-43c4-8b38-21590b7d1e70"
      },
      "execution_count": 5,
      "outputs": [
        {
          "output_type": "stream",
          "name": "stdout",
          "text": [
            "l1 норма вектора a/ b:\n",
            "10.0\n",
            "19.0\n"
          ]
        }
      ]
    },
    {
      "cell_type": "code",
      "source": [
        "a = np.array([4, 2, 4])\n",
        "b = np.array([12, 3, 4])\n",
        "print(f'l2 норма вектора a/ b:\\n{norm(a, ord = 2)}\\n{norm(b, ord = 2)}')"
      ],
      "metadata": {
        "colab": {
          "base_uri": "https://localhost:8080/"
        },
        "id": "WH786SmwzLBg",
        "outputId": "50c71d0b-1048-4b85-f25d-ac66dc84be1a"
      },
      "execution_count": 6,
      "outputs": [
        {
          "output_type": "stream",
          "name": "stdout",
          "text": [
            "l2 норма вектора a/ b:\n",
            "6.0\n",
            "13.0\n"
          ]
        }
      ]
    },
    {
      "cell_type": "code",
      "source": [
        "cos_phi = np.dot(a, b) / norm(a) / norm(b)\n",
        "print(f'cos: {cos_phi}')\n",
        "print(f'угол: {np.arccos(cos_phi)}')"
      ],
      "metadata": {
        "colab": {
          "base_uri": "https://localhost:8080/"
        },
        "id": "O-MIvpP9zRVk",
        "outputId": "348dfa74-ec36-4870-85c8-20b2638ac54b"
      },
      "execution_count": 7,
      "outputs": [
        {
          "output_type": "stream",
          "name": "stdout",
          "text": [
            "cos: 0.8974358974358974\n",
            "угол: 0.4568740035326613\n"
          ]
        }
      ]
    },
    {
      "cell_type": "markdown",
      "source": [
        "3. Будет ли линейное пространство евклидовым, если за скалярное произведение принять:\n",
        "\n",
        "\n",
        "а) произведение длин векторов;\n",
        "\n",
        "\n",
        "б) утроенное обычное скалярное произведение векторов?"
      ],
      "metadata": {
        "id": "qZ2WyFQY0C9z"
      }
    },
    {
      "cell_type": "markdown",
      "source": [
        "Ответ а):\n",
        "Да"
      ],
      "metadata": {
        "id": "1Ag5e9pe0GsD"
      }
    },
    {
      "cell_type": "markdown",
      "source": [
        "Ответ б):\n",
        "Да"
      ],
      "metadata": {
        "id": "wpMLv2_p0KiS"
      }
    },
    {
      "cell_type": "markdown",
      "source": [
        "4. Какие из нижеперечисленных векторов образуют ортонормированный базис в линейном пространстве  R3 :\n",
        "\n",
        "\n",
        "а)  (1,0,0),(0,0,1); \n",
        "\n",
        "\n",
        "б)  (1/2–√,−1/2–√,0),(1/2–√,1/2–√,0),(0,0,1); \n",
        "\n",
        "\n",
        "в)  (1/2,−1/2,0),(0,1/2,1/2),(0,0,1); \n",
        "\n",
        "\n",
        "г)  (1,0,0),(0,1,0),(0,0,1)?"
      ],
      "metadata": {
        "id": "mAcXEo9U1fIw"
      }
    },
    {
      "cell_type": "markdown",
      "source": [
        "Проверяем а):"
      ],
      "metadata": {
        "id": "gCTV4D5D3Cdu"
      }
    },
    {
      "cell_type": "code",
      "source": [
        "a = np.array([1, 0, 0])\n",
        "b = np.array([0, 0, 1])\n",
        "print(f'l2 норма вектора a/ b:\\n{norm(a, ord = 2)}\\n{norm(b, ord = 2)}')\n",
        "cos_phi = np.dot(a, b) / norm(a) / norm(b)\n",
        "print(f'cos: {cos_phi}')\n",
        "print(f'угол: {np.arccos(cos_phi)}')"
      ],
      "metadata": {
        "colab": {
          "base_uri": "https://localhost:8080/"
        },
        "id": "BcEMvYbmzwt4",
        "outputId": "00dec2fc-178f-4016-ba42-869821407184"
      },
      "execution_count": 8,
      "outputs": [
        {
          "output_type": "stream",
          "name": "stdout",
          "text": [
            "l2 норма вектора a/ b:\n",
            "1.0\n",
            "1.0\n",
            "cos: 0.0\n",
            "угол: 1.5707963267948966\n"
          ]
        }
      ]
    },
    {
      "cell_type": "markdown",
      "source": [
        "Два произвольных элемента  x  и  y  евклидова пространства  E  называются ортогональными, если их скалярное произведение равно нулю (в этом случае косинус угла  φ  между этими элементами будет равен нулю).\n",
        "\n",
        "\n",
        "Определение. В конечномерном евклидовом пространстве базис  {e1,e2,...,en}  называется ортонормированным, если\n",
        "\n",
        "(ei,ej)=0   ∀   i≠j  и  (ei,ei)=1   ∀   i∈[1,n]. \n",
        "\n",
        "Это означает, что ортонормированный базис является ортогональным и состоит из векторов единичной длины.\n",
        "\n",
        "\n",
        "Соотвественно вариант а): является ортонормированным "
      ],
      "metadata": {
        "id": "DO7noXI33hgM"
      }
    },
    {
      "cell_type": "markdown",
      "source": [
        "Проверим вариант в):\n",
        "\n",
        "*** Если я правильно понимаю теорию, то вариант б и в не подходят так как не состоят из единичный и взаимно перпендикулярных векторов."
      ],
      "metadata": {
        "id": "zYlZcOiA4E5d"
      }
    },
    {
      "cell_type": "code",
      "source": [
        "a = np.array([0.5, -0.5, 0])\n",
        "b = np.array([0, 0.5, 0.5])\n",
        "с = np.array([0, 0, 1])\n",
        "print(f'l2 норма вектора a/ b:\\n{norm(a, ord = 2)}\\n{norm(b, ord = 2)}')\n",
        "# {norm(c, ord = 2)}')\n",
        "cos_phi = np.dot(a, b) / norm(a) / norm(b)\n",
        "print(f'cos: {cos_phi}')\n",
        "print(f'угол: {np.arccos(cos_phi)}')"
      ],
      "metadata": {
        "colab": {
          "base_uri": "https://localhost:8080/"
        },
        "id": "Nfcw47I435-d",
        "outputId": "96d03bd5-24a1-4abb-a404-2b8d93b36e7d"
      },
      "execution_count": 20,
      "outputs": [
        {
          "output_type": "stream",
          "name": "stdout",
          "text": [
            "l2 норма вектора a/ b:\n",
            "0.7071067811865476\n",
            "0.7071067811865476\n",
            "cos: -0.49999999999999994\n",
            "угол: 2.0943951023931953\n",
            "5.75\n"
          ]
        }
      ]
    },
    {
      "cell_type": "markdown",
      "source": [
        "Ортонормированный базис – это базис, состоящий из единичных (нормированных) и взаимно перпендикулярных (ортогональных) векторов.\n",
        "\n",
        "Соотвественно вариант г - подходит"
      ],
      "metadata": {
        "id": "8Rcbx7CuNKZ_"
      }
    },
    {
      "cell_type": "code",
      "source": [
        ""
      ],
      "metadata": {
        "id": "orVMRqtFNOqZ"
      },
      "execution_count": null,
      "outputs": []
    }
  ]
}