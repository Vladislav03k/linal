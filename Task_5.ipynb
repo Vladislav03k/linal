{
  "nbformat": 4,
  "nbformat_minor": 0,
  "metadata": {
    "colab": {
      "provenance": [],
      "collapsed_sections": [],
      "toc_visible": true
    },
    "kernelspec": {
      "name": "python3",
      "display_name": "Python 3"
    },
    "language_info": {
      "name": "python"
    }
  },
  "cells": [
    {
      "cell_type": "markdown",
      "metadata": {
        "id": "aoo5c_Q0Czsp"
      },
      "source": [
        "1. Найти с помощью NumPy SVD для матрицы\n",
        "\n",
        "$$\\begin{pmatrix}\n",
        "1 & 2 & 0\\\\ \n",
        "0 & 0 & 5\\\\ \n",
        "3 & -4 & 2\\\\ \n",
        "1 & 6 & 5\\\\ \n",
        "0 & 1 & 0\n",
        "\\end{pmatrix}.$$\n",
        "\n",
        "\n",
        "2. Для матрицы из предыдущего задания найти:\n",
        "\n",
        "    а) евклидову норму;\n",
        "    \n",
        "    б) норму Фробениуса."
      ]
    },
    {
      "cell_type": "markdown",
      "source": [
        "# Часть1"
      ],
      "metadata": {
        "id": "WM9Tin0MWIbe"
      }
    },
    {
      "cell_type": "code",
      "execution_count": 11,
      "metadata": {
        "id": "21t92UVBQGZ0"
      },
      "outputs": [],
      "source": [
        "import numpy as np"
      ]
    },
    {
      "cell_type": "code",
      "source": [
        "A = np.array(((1, 2, 0),\n",
        "              (0, 0, 5),\n",
        "              (3, -4, 2),\n",
        "              (1, 6, 5),\n",
        "              (0, 1, 0)))\n",
        "A"
      ],
      "metadata": {
        "colab": {
          "base_uri": "https://localhost:8080/"
        },
        "id": "_wOF1BGyQeqf",
        "outputId": "d227d6e3-368e-4c34-fe77-a771ec54b1c4"
      },
      "execution_count": 12,
      "outputs": [
        {
          "output_type": "execute_result",
          "data": {
            "text/plain": [
              "array([[ 1,  2,  0],\n",
              "       [ 0,  0,  5],\n",
              "       [ 3, -4,  2],\n",
              "       [ 1,  6,  5],\n",
              "       [ 0,  1,  0]])"
            ]
          },
          "metadata": {},
          "execution_count": 12
        }
      ]
    },
    {
      "cell_type": "code",
      "source": [
        "U, s, W = np.linalg.svd(A)\n",
        "\n",
        "V = W.T\n",
        "\n",
        "D = np.zeros_like(A, dtype=float)\n",
        "D[np.diag_indices(min(A.shape))] = s"
      ],
      "metadata": {
        "id": "Y9V4b0EsQuAu"
      },
      "execution_count": 13,
      "outputs": []
    },
    {
      "cell_type": "code",
      "source": [
        "print(f'Матрица А:\\n {A}')"
      ],
      "metadata": {
        "colab": {
          "base_uri": "https://localhost:8080/"
        },
        "id": "BP957A38RMMN",
        "outputId": "d4ce5ad1-17c4-46b0-efbe-e77f9cecd037"
      },
      "execution_count": 14,
      "outputs": [
        {
          "output_type": "stream",
          "name": "stdout",
          "text": [
            "Матрица А:\n",
            " [[ 1  2  0]\n",
            " [ 0  0  5]\n",
            " [ 3 -4  2]\n",
            " [ 1  6  5]\n",
            " [ 0  1  0]]\n"
          ]
        }
      ]
    },
    {
      "cell_type": "code",
      "source": [
        "print(f'Матрица D:\\n{D}')"
      ],
      "metadata": {
        "colab": {
          "base_uri": "https://localhost:8080/"
        },
        "id": "dP85O7heRaia",
        "outputId": "c28b3c09-c6d8-4f55-dc1f-3e153ba57c77"
      },
      "execution_count": 15,
      "outputs": [
        {
          "output_type": "stream",
          "name": "stdout",
          "text": [
            "Матрица D:\n",
            "[[8.82486885 0.         0.        ]\n",
            " [0.         6.14060608 0.        ]\n",
            " [0.         0.         2.53271528]\n",
            " [0.         0.         0.        ]\n",
            " [0.         0.         0.        ]]\n"
          ]
        }
      ]
    },
    {
      "cell_type": "code",
      "source": [
        "print(f'Матрица U:\\n{U}')"
      ],
      "metadata": {
        "colab": {
          "base_uri": "https://localhost:8080/"
        },
        "id": "xLcm4JNFReG-",
        "outputId": "a476f450-20ae-46fc-be2a-6e129631985d"
      },
      "execution_count": 16,
      "outputs": [
        {
          "output_type": "stream",
          "name": "stdout",
          "text": [
            "Матрица U:\n",
            "[[ 0.17056501  0.15680918 -0.53077508 -0.79905375 -0.16158397]\n",
            " [ 0.39287016 -0.52933945  0.6134793  -0.43375771  0.03082495]\n",
            " [-0.14366152 -0.82449256 -0.52379105  0.14049848  0.07400343]\n",
            " [ 0.88843702  0.06074346 -0.24655277  0.37755832 -0.06042632]\n",
            " [ 0.08125046  0.10831843 -0.08231425 -0.10524851  0.98173958]]\n"
          ]
        }
      ]
    },
    {
      "cell_type": "code",
      "source": [
        "print(f'Матрица V:\\n{V}')"
      ],
      "metadata": {
        "colab": {
          "base_uri": "https://localhost:8080/"
        },
        "id": "S-Fe9jvXRjK9",
        "outputId": "41014edb-fb2b-4c67-da27-d1807ddba683"
      },
      "execution_count": 17,
      "outputs": [
        {
          "output_type": "stream",
          "name": "stdout",
          "text": [
            "Матрица V:\n",
            "[[ 0.07116451 -0.36737824 -0.92734505]\n",
            " [ 0.71702467  0.66514082 -0.20847855]\n",
            " [ 0.69340553 -0.65009301  0.31075368]]\n"
          ]
        }
      ]
    },
    {
      "cell_type": "code",
      "source": [
        "print(np.dot(np.dot(U, D), V.T))"
      ],
      "metadata": {
        "colab": {
          "base_uri": "https://localhost:8080/"
        },
        "id": "eEUr5HFdRqdR",
        "outputId": "ce995a2e-05f3-4148-f8c8-536d5986b4c8"
      },
      "execution_count": 18,
      "outputs": [
        {
          "output_type": "stream",
          "name": "stdout",
          "text": [
            "[[ 1.00000000e+00  2.00000000e+00  1.31018987e-15]\n",
            " [ 1.93009612e-16 -2.66609409e-15  5.00000000e+00]\n",
            " [ 3.00000000e+00 -4.00000000e+00  2.00000000e+00]\n",
            " [ 1.00000000e+00  6.00000000e+00  5.00000000e+00]\n",
            " [-5.49534701e-17  1.00000000e+00 -3.02821608e-17]]\n"
          ]
        }
      ]
    },
    {
      "cell_type": "markdown",
      "source": [
        "# Часть 2"
      ],
      "metadata": {
        "id": "MAjqqQjpWLJq"
      }
    },
    {
      "cell_type": "code",
      "source": [
        "#Евклидова норма (L2)\n",
        "dist = np.linalg.norm(A - (np.dot(np.dot(U, D), V.T)))\n",
        "dist"
      ],
      "metadata": {
        "colab": {
          "base_uri": "https://localhost:8080/"
        },
        "id": "Hwacy0SYRtQ-",
        "outputId": "677ede73-f233-4abd-b07c-c5eeb26b7cad"
      },
      "execution_count": 24,
      "outputs": [
        {
          "output_type": "execute_result",
          "data": {
            "text/plain": [
              "4.875235411345855e-15"
            ]
          },
          "metadata": {},
          "execution_count": 24
        }
      ]
    },
    {
      "cell_type": "code",
      "source": [
        "#Норма Фробениуса\n",
        "dist = np.linalg.norm(A, ord = 'fro')\n",
        "dist"
      ],
      "metadata": {
        "colab": {
          "base_uri": "https://localhost:8080/"
        },
        "id": "RbMg58OpWJx1",
        "outputId": "f954a8a5-f6b3-425e-8579-3be76dccb8f3"
      },
      "execution_count": 25,
      "outputs": [
        {
          "output_type": "execute_result",
          "data": {
            "text/plain": [
              "11.045361017187261"
            ]
          },
          "metadata": {},
          "execution_count": 25
        }
      ]
    }
  ]
}